{
  "nbformat": 4,
  "nbformat_minor": 0,
  "metadata": {
    "colab": {
      "name": "LSTM_final.ipynb",
      "provenance": [],
      "collapsed_sections": [],
      "authorship_tag": "ABX9TyMZofarlTu+2SAnBBVqzQq8",
      "include_colab_link": true
    },
    "kernelspec": {
      "name": "python3",
      "display_name": "Python 3"
    },
    "language_info": {
      "name": "python"
    }
  },
  "cells": [
    {
      "cell_type": "markdown",
      "metadata": {
        "id": "view-in-github",
        "colab_type": "text"
      },
      "source": [
        "<a href=\"https://colab.research.google.com/github/maddy1096/CryptocurrencyPredictionAndAnalysis/blob/main/LSTM_final.ipynb\" target=\"_parent\"><img src=\"https://colab.research.google.com/assets/colab-badge.svg\" alt=\"Open In Colab\"/></a>"
      ]
    },
    {
      "cell_type": "markdown",
      "metadata": {
        "id": "-TsiiRD4cJ-K"
      },
      "source": [
        "Import libraries"
      ]
    },
    {
      "cell_type": "code",
      "metadata": {
        "id": "uaBha0svgyov"
      },
      "source": [
        "import numpy as np\n",
        "import matplotlib.pyplot as plt\n",
        "import pandas as pd"
      ],
      "execution_count": 1,
      "outputs": []
    },
    {
      "cell_type": "code",
      "metadata": {
        "id": "U2P2cVvVB9ct"
      },
      "source": [
        "import numpy as np # linear algebra\n",
        "import pandas as pd # data processing, CSV file I/O (e.g. pd.read_csv)\n",
        "\n",
        "from subprocess import check_output\n",
        "from keras.layers.core import Dense, Activation, Dropout\n",
        "from keras.layers.recurrent import LSTM\n",
        "from keras.models import Sequential\n",
        "from sklearn.model_selection import train_test_split\n",
        "import time #helper libraries\n",
        "from sklearn.preprocessing import MinMaxScaler\n",
        "import matplotlib.pyplot as plt\n",
        "from numpy import newaxis"
      ],
      "execution_count": 2,
      "outputs": []
    },
    {
      "cell_type": "markdown",
      "metadata": {
        "id": "JchorvpCcOKi"
      },
      "source": [
        "Getting the data"
      ]
    },
    {
      "cell_type": "code",
      "metadata": {
        "colab": {
          "base_uri": "https://localhost:8080/"
        },
        "id": "0g0ux38eg9Qm",
        "outputId": "e8876bf8-ad2b-484a-89b5-7b5ab2753334"
      },
      "source": [
        "import requests\n",
        "import json\n",
        "import pandas as pd\n",
        "import datetime\n",
        "import csv\n",
        "def daily_price_historical(symbol, comparison_symbol, all_data=True, limit=1, aggregate=1, exchange=''):\n",
        "    url = 'https://min-api.cryptocompare.com/data/histoday?fsym={}&tsym={}&limit={}&aggregate={}'\\\n",
        "            .format(symbol.upper(), comparison_symbol.upper(), limit, aggregate)\n",
        "    if exchange:\n",
        "        url += '&e={}'.format(exchange)\n",
        "    if all_data:\n",
        "        url += '&allData=true'\n",
        "    page = requests.get(url)\n",
        "    data = page.json()['Data']\n",
        "    df = pd.DataFrame(data)\n",
        "    \n",
        "    df['timestamp'] = [datetime.datetime.fromtimestamp(d) for d in df.time]\n",
        "  \n",
        "    return df\n",
        "\n",
        "x = ['BTC']\n",
        "for i in x:\n",
        "  m = daily_price_historical(i,'USD')\n",
        "  m['Symbol'] = i\n",
        "  m.to_csv(\"./{0}_price.csv\".format(i.replace(\"-\",\"_\")),index = False)\n",
        "\n",
        "  print('Dataset of '+i+' has been created')"
      ],
      "execution_count": 3,
      "outputs": [
        {
          "output_type": "stream",
          "text": [
            "Dataset of BTC has been created\n"
          ],
          "name": "stdout"
        }
      ]
    },
    {
      "cell_type": "markdown",
      "metadata": {
        "id": "gRLDXuSWcTgS"
      },
      "source": [
        "Preprocessing the data"
      ]
    },
    {
      "cell_type": "code",
      "metadata": {
        "colab": {
          "base_uri": "https://localhost:8080/",
          "height": 298
        },
        "id": "rV1eVjq6g4wQ",
        "outputId": "c6045b74-f18a-4eda-aded-bf185b174a47"
      },
      "source": [
        "dataset_train = pd.read_csv('BTC_price.csv')\n",
        "\n",
        "\n",
        "\n",
        "high = dataset_train.loc[:,'high'].to_numpy()\n",
        "low_prices = dataset_train.loc[:,'low'].to_numpy()\n",
        "mid_prices = (high+low_prices)/2.0\n",
        "dataset_train['mid'] = mid_prices\n",
        "\n",
        "training_set = dataset_train.iloc[:,-1].values\n",
        "\n",
        "from sklearn.preprocessing import MinMaxScaler\n",
        "sc = MinMaxScaler(feature_range = (0, 1))\n",
        "training_set = training_set.reshape(-1,1)\n",
        "training_set_scaled = sc.fit_transform(training_set)\n",
        "\n",
        "train_size = int(len(training_set_scaled) * 0.80)\n",
        "test_size = len(training_set_scaled) - train_size\n",
        "train, test = training_set_scaled[0:train_size,:], training_set_scaled[train_size:len(training_set_scaled),:]\n",
        "print(len(train), len(test))\n",
        "plt.title('orignal')\n",
        "plt.ylabel('avg price')\n",
        "plt.plot(training_set)\n",
        "plt.show()"
      ],
      "execution_count": 4,
      "outputs": [
        {
          "output_type": "stream",
          "text": [
            "3157 790\n"
          ],
          "name": "stdout"
        },
        {
          "output_type": "display_data",
          "data": {
            "image/png": "[encoded data removed]",
            "text/plain": [
              "<Figure size 432x288 with 1 Axes>"
            ]
          },
          "metadata": {
            "tags": [],
            "needs_background": "light"
          }
        }
      ]
    },
    {
      "cell_type": "code",
      "metadata": {
        "id": "4jnkfnzCDb_E"
      },
      "source": [
        "def create_dataset(dataset, look_back=1):\n",
        "\tdataX, dataY = [], []\n",
        "\tfor i in range(len(dataset)-look_back-1):\n",
        "\t\ta = dataset[i:(i+look_back), 0]\n",
        "\t\tdataX.append(a)\n",
        "\t\tdataY.append(dataset[i + look_back, 0])\n",
        "\treturn np.array(dataX), np.array(dataY)\n",
        " \n",
        "look_back = 1\n",
        "trainX, trainY = create_dataset(train, look_back)\n",
        "testX, testY = create_dataset(test, look_back)\n",
        "\n",
        "trainX = np.reshape(trainX, (trainX.shape[0], 1, trainX.shape[1]))\n",
        "testX = np.reshape(testX, (testX.shape[0], 1, testX.shape[1]))"
      ],
      "execution_count": 5,
      "outputs": []
    },
    {
      "cell_type": "markdown",
      "metadata": {
        "id": "i6U8uE8NcwAO"
      },
      "source": [
        "Building the model"
      ]
    },
    {
      "cell_type": "code",
      "metadata": {
        "colab": {
          "base_uri": "https://localhost:8080/"
        },
        "id": "GZhGHRKFDy7x",
        "outputId": "2f744342-3835-4104-8af3-c95797b79926"
      },
      "source": [
        "#Step 2 Build Model\n",
        "\n",
        "\n",
        "model = Sequential()\n",
        "model.add(LSTM(50, input_shape=(trainX.shape[1], trainX.shape[2])))\n",
        "model.add(Dense(1))\n",
        "start = time.time()\n",
        "model.compile(loss='mean_squared_error', optimizer='adam')\n",
        "print ('compilation time : ', time.time() - start)\n",
        "\n",
        "model.fit(\n",
        "    trainX,\n",
        "    trainY,\n",
        "    batch_size=110,\n",
        "    epochs=100,\n",
        "    validation_split=0.05)"
      ],
      "execution_count": 6,
      "outputs": [
        {
          "output_type": "stream",
          "text": [
            "compilation time :  0.011088132858276367\n",
            "Epoch 1/100\n",
            "28/28 [==============================] - 3s 36ms/step - loss: 0.0025 - val_loss: 0.0032\n",
            "Epoch 2/100\n",
            "28/28 [==============================] - 0s 5ms/step - loss: 0.0020 - val_loss: 0.0022\n",
            "Epoch 3/100\n",
            "28/28 [==============================] - 0s 5ms/step - loss: 0.0015 - val_loss: 0.0016\n",
            "Epoch 4/100\n",
            "28/28 [==============================] - 0s 5ms/step - loss: 0.0012 - val_loss: 0.0013\n",
            "Epoch 5/100\n",
            "28/28 [==============================] - 0s 4ms/step - loss: 8.5440e-04 - val_loss: 7.7259e-04\n",
            "Epoch 6/100\n",
            "28/28 [==============================] - 0s 4ms/step - loss: 5.0065e-04 - val_loss: 3.7426e-04\n",
            "Epoch 7/100\n",
            "28/28 [==============================] - 0s 4ms/step - loss: 2.5462e-04 - val_loss: 1.6781e-04\n",
            "Epoch 8/100\n",
            "28/28 [==============================] - 0s 5ms/step - loss: 1.0866e-04 - val_loss: 6.4973e-05\n",
            "Epoch 9/100\n",
            "28/28 [==============================] - 0s 5ms/step - loss: 3.4879e-05 - val_loss: 2.0368e-05\n",
            "Epoch 10/100\n",
            "28/28 [==============================] - 0s 4ms/step - loss: 1.0071e-05 - val_loss: 6.4734e-06\n",
            "Epoch 11/100\n",
            "28/28 [==============================] - 0s 5ms/step - loss: 7.2858e-06 - val_loss: 4.3078e-06\n",
            "Epoch 12/100\n",
            "28/28 [==============================] - 0s 4ms/step - loss: 7.2504e-06 - val_loss: 3.8028e-06\n",
            "Epoch 13/100\n",
            "28/28 [==============================] - 0s 5ms/step - loss: 7.6652e-06 - val_loss: 4.0825e-06\n",
            "Epoch 14/100\n",
            "28/28 [==============================] - 0s 5ms/step - loss: 6.4311e-06 - val_loss: 4.3658e-06\n",
            "Epoch 15/100\n",
            "28/28 [==============================] - 0s 4ms/step - loss: 6.5282e-06 - val_loss: 5.0887e-06\n",
            "Epoch 16/100\n",
            "28/28 [==============================] - 0s 5ms/step - loss: 7.1857e-06 - val_loss: 3.9435e-06\n",
            "Epoch 17/100\n",
            "28/28 [==============================] - 0s 5ms/step - loss: 6.9971e-06 - val_loss: 3.9755e-06\n",
            "Epoch 18/100\n",
            "28/28 [==============================] - 0s 5ms/step - loss: 8.1028e-06 - val_loss: 4.5540e-06\n",
            "Epoch 19/100\n",
            "28/28 [==============================] - 0s 5ms/step - loss: 5.2185e-06 - val_loss: 4.4334e-06\n",
            "Epoch 20/100\n",
            "28/28 [==============================] - 0s 6ms/step - loss: 8.4191e-06 - val_loss: 3.7014e-06\n",
            "Epoch 21/100\n",
            "28/28 [==============================] - 0s 5ms/step - loss: 5.4393e-06 - val_loss: 3.6825e-06\n",
            "Epoch 22/100\n",
            "28/28 [==============================] - 0s 6ms/step - loss: 6.4079e-06 - val_loss: 4.2343e-06\n",
            "Epoch 23/100\n",
            "28/28 [==============================] - 0s 5ms/step - loss: 7.4610e-06 - val_loss: 4.3924e-06\n",
            "Epoch 24/100\n",
            "28/28 [==============================] - 0s 4ms/step - loss: 9.1118e-06 - val_loss: 3.8027e-06\n",
            "Epoch 25/100\n",
            "28/28 [==============================] - 0s 5ms/step - loss: 7.1768e-06 - val_loss: 4.5245e-06\n",
            "Epoch 26/100\n",
            "28/28 [==============================] - 0s 5ms/step - loss: 6.3504e-06 - val_loss: 3.7787e-06\n",
            "Epoch 27/100\n",
            "28/28 [==============================] - 0s 5ms/step - loss: 6.7809e-06 - val_loss: 3.6384e-06\n",
            "Epoch 28/100\n",
            "28/28 [==============================] - 0s 4ms/step - loss: 6.8259e-06 - val_loss: 3.7119e-06\n",
            "Epoch 29/100\n",
            "28/28 [==============================] - 0s 4ms/step - loss: 6.7878e-06 - val_loss: 3.7839e-06\n",
            "Epoch 30/100\n",
            "28/28 [==============================] - 0s 5ms/step - loss: 6.3890e-06 - val_loss: 4.0273e-06\n",
            "Epoch 31/100\n",
            "28/28 [==============================] - 0s 4ms/step - loss: 6.6524e-06 - val_loss: 3.7013e-06\n",
            "Epoch 32/100\n",
            "28/28 [==============================] - 0s 5ms/step - loss: 6.9378e-06 - val_loss: 4.7329e-06\n",
            "Epoch 33/100\n",
            "28/28 [==============================] - 0s 5ms/step - loss: 6.7198e-06 - val_loss: 4.5234e-06\n",
            "Epoch 34/100\n",
            "28/28 [==============================] - 0s 5ms/step - loss: 8.2025e-06 - val_loss: 3.6873e-06\n",
            "Epoch 35/100\n",
            "28/28 [==============================] - 0s 4ms/step - loss: 6.5470e-06 - val_loss: 3.8135e-06\n",
            "Epoch 36/100\n",
            "28/28 [==============================] - 0s 4ms/step - loss: 6.7720e-06 - val_loss: 4.3866e-06\n",
            "Epoch 37/100\n",
            "28/28 [==============================] - 0s 4ms/step - loss: 6.5746e-06 - val_loss: 3.7324e-06\n",
            "Epoch 38/100\n",
            "28/28 [==============================] - 0s 5ms/step - loss: 8.3493e-06 - val_loss: 3.6843e-06\n",
            "Epoch 39/100\n",
            "28/28 [==============================] - 0s 4ms/step - loss: 5.7173e-06 - val_loss: 3.8459e-06\n",
            "Epoch 40/100\n",
            "28/28 [==============================] - 0s 4ms/step - loss: 8.1933e-06 - val_loss: 3.7169e-06\n",
            "Epoch 41/100\n",
            "28/28 [==============================] - 0s 4ms/step - loss: 6.7593e-06 - val_loss: 3.6731e-06\n",
            "Epoch 42/100\n",
            "28/28 [==============================] - 0s 4ms/step - loss: 8.4417e-06 - val_loss: 3.6869e-06\n",
            "Epoch 43/100\n",
            "28/28 [==============================] - 0s 5ms/step - loss: 5.9929e-06 - val_loss: 3.9215e-06\n",
            "Epoch 44/100\n",
            "28/28 [==============================] - 0s 4ms/step - loss: 5.9664e-06 - val_loss: 3.7378e-06\n",
            "Epoch 45/100\n",
            "28/28 [==============================] - 0s 4ms/step - loss: 6.8976e-06 - val_loss: 3.7403e-06\n",
            "Epoch 46/100\n",
            "28/28 [==============================] - 0s 4ms/step - loss: 7.0965e-06 - val_loss: 4.0369e-06\n",
            "Epoch 47/100\n",
            "28/28 [==============================] - 0s 5ms/step - loss: 5.5757e-06 - val_loss: 3.9802e-06\n",
            "Epoch 48/100\n",
            "28/28 [==============================] - 0s 4ms/step - loss: 7.4944e-06 - val_loss: 3.9802e-06\n",
            "Epoch 49/100\n",
            "28/28 [==============================] - 0s 5ms/step - loss: 5.9655e-06 - val_loss: 3.7657e-06\n",
            "Epoch 50/100\n",
            "28/28 [==============================] - 0s 4ms/step - loss: 7.0394e-06 - val_loss: 3.8188e-06\n",
            "Epoch 51/100\n",
            "28/28 [==============================] - 0s 5ms/step - loss: 7.9077e-06 - val_loss: 3.6860e-06\n",
            "Epoch 52/100\n",
            "28/28 [==============================] - 0s 5ms/step - loss: 6.0790e-06 - val_loss: 3.6696e-06\n",
            "Epoch 53/100\n",
            "28/28 [==============================] - 0s 5ms/step - loss: 5.7383e-06 - val_loss: 3.8844e-06\n",
            "Epoch 54/100\n",
            "28/28 [==============================] - 0s 5ms/step - loss: 7.0478e-06 - val_loss: 3.6581e-06\n",
            "Epoch 55/100\n",
            "28/28 [==============================] - 0s 4ms/step - loss: 7.6923e-06 - val_loss: 3.8928e-06\n",
            "Epoch 56/100\n",
            "28/28 [==============================] - 0s 4ms/step - loss: 6.3716e-06 - val_loss: 3.9981e-06\n",
            "Epoch 57/100\n",
            "28/28 [==============================] - 0s 4ms/step - loss: 7.2118e-06 - val_loss: 9.0787e-06\n",
            "Epoch 58/100\n",
            "28/28 [==============================] - 0s 5ms/step - loss: 1.0570e-05 - val_loss: 3.6409e-06\n",
            "Epoch 59/100\n",
            "28/28 [==============================] - 0s 5ms/step - loss: 7.5847e-06 - val_loss: 4.0987e-06\n",
            "Epoch 60/100\n",
            "28/28 [==============================] - 0s 4ms/step - loss: 5.7312e-06 - val_loss: 3.6670e-06\n",
            "Epoch 61/100\n",
            "28/28 [==============================] - 0s 4ms/step - loss: 6.5983e-06 - val_loss: 3.6640e-06\n",
            "Epoch 62/100\n",
            "28/28 [==============================] - 0s 4ms/step - loss: 7.4625e-06 - val_loss: 3.8621e-06\n",
            "Epoch 63/100\n",
            "28/28 [==============================] - 0s 5ms/step - loss: 7.0341e-06 - val_loss: 3.7556e-06\n",
            "Epoch 64/100\n",
            "28/28 [==============================] - 0s 5ms/step - loss: 6.2884e-06 - val_loss: 3.7393e-06\n",
            "Epoch 65/100\n",
            "28/28 [==============================] - 0s 4ms/step - loss: 6.9198e-06 - val_loss: 3.6688e-06\n",
            "Epoch 66/100\n",
            "28/28 [==============================] - 0s 5ms/step - loss: 6.4502e-06 - val_loss: 3.7081e-06\n",
            "Epoch 67/100\n",
            "28/28 [==============================] - 0s 4ms/step - loss: 6.6708e-06 - val_loss: 3.7097e-06\n",
            "Epoch 68/100\n",
            "28/28 [==============================] - 0s 5ms/step - loss: 5.2433e-06 - val_loss: 3.6739e-06\n",
            "Epoch 69/100\n",
            "28/28 [==============================] - 0s 4ms/step - loss: 7.1843e-06 - val_loss: 4.2813e-06\n",
            "Epoch 70/100\n",
            "28/28 [==============================] - 0s 4ms/step - loss: 7.6496e-06 - val_loss: 3.6632e-06\n",
            "Epoch 71/100\n",
            "28/28 [==============================] - 0s 4ms/step - loss: 5.4452e-06 - val_loss: 3.8085e-06\n",
            "Epoch 72/100\n",
            "28/28 [==============================] - 0s 5ms/step - loss: 5.4225e-06 - val_loss: 3.6487e-06\n",
            "Epoch 73/100\n",
            "28/28 [==============================] - 0s 5ms/step - loss: 6.3983e-06 - val_loss: 4.1229e-06\n",
            "Epoch 74/100\n",
            "28/28 [==============================] - 0s 4ms/step - loss: 7.4787e-06 - val_loss: 3.8229e-06\n",
            "Epoch 75/100\n",
            "28/28 [==============================] - 0s 5ms/step - loss: 5.5477e-06 - val_loss: 3.6488e-06\n",
            "Epoch 76/100\n",
            "28/28 [==============================] - 0s 4ms/step - loss: 4.9112e-06 - val_loss: 4.3271e-06\n",
            "Epoch 77/100\n",
            "28/28 [==============================] - 0s 4ms/step - loss: 5.4676e-06 - val_loss: 3.8874e-06\n",
            "Epoch 78/100\n",
            "28/28 [==============================] - 0s 5ms/step - loss: 6.8675e-06 - val_loss: 3.8902e-06\n",
            "Epoch 79/100\n",
            "28/28 [==============================] - 0s 5ms/step - loss: 6.2883e-06 - val_loss: 4.0890e-06\n",
            "Epoch 80/100\n",
            "28/28 [==============================] - 0s 4ms/step - loss: 7.1547e-06 - val_loss: 3.6646e-06\n",
            "Epoch 81/100\n",
            "28/28 [==============================] - 0s 4ms/step - loss: 7.0051e-06 - val_loss: 3.7554e-06\n",
            "Epoch 82/100\n",
            "28/28 [==============================] - 0s 5ms/step - loss: 6.8161e-06 - val_loss: 3.6672e-06\n",
            "Epoch 83/100\n",
            "28/28 [==============================] - 0s 5ms/step - loss: 5.5129e-06 - val_loss: 3.7728e-06\n",
            "Epoch 84/100\n",
            "28/28 [==============================] - 0s 4ms/step - loss: 6.2805e-06 - val_loss: 3.7166e-06\n",
            "Epoch 85/100\n",
            "28/28 [==============================] - 0s 4ms/step - loss: 7.4563e-06 - val_loss: 3.6563e-06\n",
            "Epoch 86/100\n",
            "28/28 [==============================] - 0s 4ms/step - loss: 6.7860e-06 - val_loss: 4.0504e-06\n",
            "Epoch 87/100\n",
            "28/28 [==============================] - 0s 4ms/step - loss: 6.5781e-06 - val_loss: 3.7286e-06\n",
            "Epoch 88/100\n",
            "28/28 [==============================] - 0s 4ms/step - loss: 7.0578e-06 - val_loss: 4.4198e-06\n",
            "Epoch 89/100\n",
            "28/28 [==============================] - 0s 4ms/step - loss: 8.4169e-06 - val_loss: 4.3703e-06\n",
            "Epoch 90/100\n",
            "28/28 [==============================] - 0s 5ms/step - loss: 8.1001e-06 - val_loss: 3.6513e-06\n",
            "Epoch 91/100\n",
            "28/28 [==============================] - 0s 4ms/step - loss: 6.7273e-06 - val_loss: 3.9568e-06\n",
            "Epoch 92/100\n",
            "28/28 [==============================] - 0s 4ms/step - loss: 7.6362e-06 - val_loss: 3.8967e-06\n",
            "Epoch 93/100\n",
            "28/28 [==============================] - 0s 4ms/step - loss: 7.7968e-06 - val_loss: 3.6832e-06\n",
            "Epoch 94/100\n",
            "28/28 [==============================] - 0s 4ms/step - loss: 5.4009e-06 - val_loss: 3.9052e-06\n",
            "Epoch 95/100\n",
            "28/28 [==============================] - 0s 4ms/step - loss: 5.9060e-06 - val_loss: 3.6529e-06\n",
            "Epoch 96/100\n",
            "28/28 [==============================] - 0s 4ms/step - loss: 8.8157e-06 - val_loss: 5.4603e-06\n",
            "Epoch 97/100\n",
            "28/28 [==============================] - 0s 4ms/step - loss: 8.0467e-06 - val_loss: 5.9369e-06\n",
            "Epoch 98/100\n",
            "28/28 [==============================] - 0s 5ms/step - loss: 7.8831e-06 - val_loss: 3.9053e-06\n",
            "Epoch 99/100\n",
            "28/28 [==============================] - 0s 5ms/step - loss: 6.5853e-06 - val_loss: 5.9609e-06\n",
            "Epoch 100/100\n",
            "28/28 [==============================] - 0s 4ms/step - loss: 9.7348e-06 - val_loss: 3.6398e-06\n"
          ],
          "name": "stdout"
        },
        {
          "output_type": "execute_result",
          "data": {
            "text/plain": [
              "<tensorflow.python.keras.callbacks.History at 0x7fc0d7a5a550>"
            ]
          },
          "metadata": {
            "tags": []
          },
          "execution_count": 6
        }
      ]
    },
    {
      "cell_type": "code",
      "metadata": {
        "colab": {
          "base_uri": "https://localhost:8080/",
          "height": 654
        },
        "id": "BbTK-VQ-Fet1",
        "outputId": "abc2d793-2b9e-41b7-ac22-f6868a1bb598"
      },
      "source": [
        "\n",
        "def plot_results_multiple(predicted_data, true_data,length):\n",
        "   \n",
        "    plt.plot(sc.inverse_transform(true_data.reshape(-1, 1))[length:])\n",
        "    plt.plot(sc.inverse_transform(np.array(predicted_data).reshape(-1, 1))[length:])\n",
        "    plt.title(\"LSTM\")\n",
        "    plt.show()\n",
        "    \n",
        "#predict lenght consecutive values from a real one\n",
        "def predict_sequences_multiple(model, firstValue,length):\n",
        "    prediction_seqs = []\n",
        "    curr_frame = firstValue\n",
        "    \n",
        "    for i in range(length): \n",
        "        predicted = []        \n",
        "        \n",
        "        print(model.predict(curr_frame[newaxis,:,:]))\n",
        "        predicted.append(model.predict(curr_frame[newaxis,:,:])[0,0])\n",
        "        \n",
        "        curr_frame = curr_frame[0:]\n",
        "        curr_frame = np.insert(curr_frame[0:], i+1, predicted[-1], axis=0)\n",
        "        prediction_seqs.append(predicted[-1])\n",
        "        \n",
        "    return prediction_seqs\n",
        "\n",
        "predict_length=10\n",
        "predictions = predict_sequences_multiple(model, testX[0], predict_length)\n",
        "print(sc.inverse_transform(np.array(predictions).reshape(-1, 1)))\n",
        "\n",
        "plot_results_multiple(predictions, testY, predict_length,)\n"
      ],
      "execution_count": 7,
      "outputs": [
        {
          "output_type": "stream",
          "text": [
            "[[0.06184538]]\n",
            "WARNING:tensorflow:Model was constructed with shape (None, 1, 1) for input KerasTensor(type_spec=TensorSpec(shape=(None, 1, 1), dtype=tf.float32, name='lstm_input'), name='lstm_input', description=\"created by layer 'lstm_input'\"), but it was called on an input with incompatible shape (None, 2, 1).\n",
            "[[0.10596474]]\n",
            "[[0.18187945]]\n",
            "[[0.31338885]]\n",
            "[[0.5419592]]\n",
            "[[0.9375574]]\n",
            "[[1.6037328]]\n",
            "[[2.628007]]\n",
            "[[3.903676]]\n",
            "[[5.059437]]\n",
            "[[  3901.6482]\n",
            " [  6684.9775]\n",
            " [ 11474.158 ]\n",
            " [ 19770.607 ]\n",
            " [ 34190.277 ]\n",
            " [ 59147.12  ]\n",
            " [101173.695 ]\n",
            " [165791.4   ]\n",
            " [246268.7   ]\n",
            " [319181.44  ]]\n"
          ],
          "name": "stdout"
        },
        {
          "output_type": "display_data",
          "data": {
            "image/png": "[encoded data removed]",
            "text/plain": [
              "<Figure size 432x288 with 1 Axes>"
            ]
          },
          "metadata": {
            "tags": [],
            "needs_background": "light"
          }
        }
      ]
    },
    {
      "cell_type": "markdown",
      "metadata": {
        "id": "rH_xEp73c15K"
      },
      "source": [
        "Calculate MSE"
      ]
    },
    {
      "cell_type": "code",
      "metadata": {
        "colab": {
          "base_uri": "https://localhost:8080/"
        },
        "id": "mo1fMW-WhSss",
        "outputId": "d5ea837d-d83c-4b48-923c-069bbf6f561b"
      },
      "source": [
        "y_pred = model.predict(testX)\n",
        "model.evaluate(testX,testY)\n",
        "\n"
      ],
      "execution_count": 8,
      "outputs": [
        {
          "output_type": "stream",
          "text": [
            "25/25 [==============================] - 0s 1ms/step - loss: 1.3992e-04\n"
          ],
          "name": "stdout"
        },
        {
          "output_type": "execute_result",
          "data": {
            "text/plain": [
              "0.0001399247266817838"
            ]
          },
          "metadata": {
            "tags": []
          },
          "execution_count": 8
        }
      ]
    }
  ]
}